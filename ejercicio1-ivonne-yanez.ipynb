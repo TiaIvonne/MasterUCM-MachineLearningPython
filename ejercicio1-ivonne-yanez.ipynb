{
 "cells": [
  {
   "cell_type": "code",
   "execution_count": 1,
   "metadata": {},
   "outputs": [],
   "source": [
    "\"\"\" Cualquier librería adicional que necesiteis durante el ejercicio, importadlo en esta sección \"\"\"\n",
    "\n",
    "import pandas as pd\n",
    "import numpy as np\n",
    "import matplotlib.pyplot as plt\n",
    "import seaborn as sns\n",
    "import warnings\n",
    "\n",
    "sns.set_style('darkgrid')\n",
    "np.set_printoptions(precision=2)\n",
    "warnings.filterwarnings(\"ignore\")\n",
    "\n",
    "from sklearn.preprocessing import MinMaxScaler, StandardScaler, Normalizer, Binarizer, RobustScaler\n",
    "from sklearn.compose import ColumnTransformer\n",
    "from sklearn.preprocessing import OneHotEncoder, LabelEncoder, PowerTransformer\n",
    "from sklearn.impute import SimpleImputer, KNNImputer\n",
    "\n",
    "from sklearn.feature_selection import SelectKBest, chi2, RFE\n",
    "from sklearn.model_selection import train_test_split\n",
    "from sklearn.pipeline import make_pipeline, Pipeline\n",
    "from sklearn.decomposition import PCA\n",
    "\n",
    "from sklearn.linear_model import LogisticRegression\n",
    "from sklearn.tree import DecisionTreeClassifier\n",
    "from sklearn.neighbors import KNeighborsClassifier\n",
    "from sklearn.discriminant_analysis import LinearDiscriminantAnalysis\n",
    "from sklearn.naive_bayes import GaussianNB\n",
    "from sklearn.ensemble import RandomForestClassifier, ExtraTreesClassifier\n",
    "from sklearn.svm import SVC\n",
    "\n",
    "from sklearn.metrics import accuracy_score, confusion_matrix, classification_report, f1_score\n",
    "\n",
    "from sklearn.model_selection import KFold, ShuffleSplit, LeaveOneOut, StratifiedKFold\n",
    "from sklearn.model_selection import cross_val_score, cross_val_predict\n",
    "from sklearn.model_selection import GridSearchCV, RandomizedSearchCV"
   ]
  },
  {
   "cell_type": "markdown",
   "metadata": {},
   "source": [
    "# Ejercicio 1\n",
    "\n",
    "Este ejercicio pretende poner en práctica la habilidad para crear modelos en __sklearn__ mediante el uso de transformadores _ad hoc_.\n",
    "\n",
    "El estudiante tendrá que repasar los comandos realizados en clase y lidiar con posibles errores durante el desarrollo. \n",
    "\n",
    "Para facilitar y agilizar el desarrollo, el estudiante tendrá que rellenar los huecos marcados como '_# codigo-alumno_'. No obstante, si además el estudiante necesita ejecutar código adicional, siempre podrá utilizar cualquier celda adicional. \n",
    "\n",
    "El estudiante tendrá siempre que introducir una semilla (seed) que generará acorde a su fecha de nacimiento (sin ser intrusivos en edad).\n",
    "\n",
    "Finalmente, la entrega será un fichero .ipynb cambiando nombre y apellido al fichero."
   ]
  },
  {
   "cell_type": "code",
   "execution_count": 2,
   "metadata": {},
   "outputs": [],
   "source": [
    "\"\"\" El estudiante tendrá que utilizar la semilla proporcionada para todos los procesos aleatorios \"\"\"\n",
    "\n",
    "seed = 76 #dia-nacimiento-estudiante + 13 * mes-nacimiento-estudiante"
   ]
  },
  {
   "cell_type": "markdown",
   "metadata": {},
   "source": [
    "### Data cleansing"
   ]
  },
  {
   "cell_type": "code",
   "execution_count": 3,
   "metadata": {},
   "outputs": [
    {
     "data": {
      "text/html": [
       "<div>\n",
       "<style scoped>\n",
       "    .dataframe tbody tr th:only-of-type {\n",
       "        vertical-align: middle;\n",
       "    }\n",
       "\n",
       "    .dataframe tbody tr th {\n",
       "        vertical-align: top;\n",
       "    }\n",
       "\n",
       "    .dataframe thead th {\n",
       "        text-align: right;\n",
       "    }\n",
       "</style>\n",
       "<table border=\"1\" class=\"dataframe\">\n",
       "  <thead>\n",
       "    <tr style=\"text-align: right;\">\n",
       "      <th></th>\n",
       "      <th>PassengerId</th>\n",
       "      <th>Survived</th>\n",
       "      <th>Pclass</th>\n",
       "      <th>Name</th>\n",
       "      <th>Sex</th>\n",
       "      <th>Age</th>\n",
       "      <th>SibSp</th>\n",
       "      <th>Parch</th>\n",
       "      <th>Ticket</th>\n",
       "      <th>Fare</th>\n",
       "      <th>Cabin</th>\n",
       "      <th>Embarked</th>\n",
       "      <th>Title</th>\n",
       "    </tr>\n",
       "  </thead>\n",
       "  <tbody>\n",
       "    <tr>\n",
       "      <th>0</th>\n",
       "      <td>1</td>\n",
       "      <td>0</td>\n",
       "      <td>3</td>\n",
       "      <td>Braund, Mr. Owen Harris</td>\n",
       "      <td>male</td>\n",
       "      <td>22.0</td>\n",
       "      <td>1</td>\n",
       "      <td>0</td>\n",
       "      <td>A/5 21171</td>\n",
       "      <td>7.2500</td>\n",
       "      <td>NaN</td>\n",
       "      <td>S</td>\n",
       "      <td>Mr</td>\n",
       "    </tr>\n",
       "    <tr>\n",
       "      <th>1</th>\n",
       "      <td>2</td>\n",
       "      <td>1</td>\n",
       "      <td>1</td>\n",
       "      <td>Cumings, Mrs. John Bradley (Florence Briggs Th...</td>\n",
       "      <td>female</td>\n",
       "      <td>38.0</td>\n",
       "      <td>1</td>\n",
       "      <td>0</td>\n",
       "      <td>PC 17599</td>\n",
       "      <td>71.2833</td>\n",
       "      <td>C85</td>\n",
       "      <td>C</td>\n",
       "      <td>Mrs</td>\n",
       "    </tr>\n",
       "    <tr>\n",
       "      <th>2</th>\n",
       "      <td>3</td>\n",
       "      <td>1</td>\n",
       "      <td>3</td>\n",
       "      <td>Heikkinen, Miss. Laina</td>\n",
       "      <td>female</td>\n",
       "      <td>26.0</td>\n",
       "      <td>0</td>\n",
       "      <td>0</td>\n",
       "      <td>STON/O2. 3101282</td>\n",
       "      <td>7.9250</td>\n",
       "      <td>NaN</td>\n",
       "      <td>S</td>\n",
       "      <td>Miss</td>\n",
       "    </tr>\n",
       "    <tr>\n",
       "      <th>3</th>\n",
       "      <td>4</td>\n",
       "      <td>1</td>\n",
       "      <td>1</td>\n",
       "      <td>Futrelle, Mrs. Jacques Heath (Lily May Peel)</td>\n",
       "      <td>female</td>\n",
       "      <td>35.0</td>\n",
       "      <td>1</td>\n",
       "      <td>0</td>\n",
       "      <td>113803</td>\n",
       "      <td>53.1000</td>\n",
       "      <td>C123</td>\n",
       "      <td>S</td>\n",
       "      <td>Mrs</td>\n",
       "    </tr>\n",
       "    <tr>\n",
       "      <th>4</th>\n",
       "      <td>5</td>\n",
       "      <td>0</td>\n",
       "      <td>3</td>\n",
       "      <td>Allen, Mr. William Henry</td>\n",
       "      <td>male</td>\n",
       "      <td>35.0</td>\n",
       "      <td>0</td>\n",
       "      <td>0</td>\n",
       "      <td>373450</td>\n",
       "      <td>8.0500</td>\n",
       "      <td>NaN</td>\n",
       "      <td>S</td>\n",
       "      <td>Mr</td>\n",
       "    </tr>\n",
       "  </tbody>\n",
       "</table>\n",
       "</div>"
      ],
      "text/plain": [
       "   PassengerId  Survived  Pclass  \\\n",
       "0            1         0       3   \n",
       "1            2         1       1   \n",
       "2            3         1       3   \n",
       "3            4         1       1   \n",
       "4            5         0       3   \n",
       "\n",
       "                                                Name     Sex   Age  SibSp  \\\n",
       "0                            Braund, Mr. Owen Harris    male  22.0      1   \n",
       "1  Cumings, Mrs. John Bradley (Florence Briggs Th...  female  38.0      1   \n",
       "2                             Heikkinen, Miss. Laina  female  26.0      0   \n",
       "3       Futrelle, Mrs. Jacques Heath (Lily May Peel)  female  35.0      1   \n",
       "4                           Allen, Mr. William Henry    male  35.0      0   \n",
       "\n",
       "   Parch            Ticket     Fare Cabin Embarked Title  \n",
       "0      0         A/5 21171   7.2500   NaN        S    Mr  \n",
       "1      0          PC 17599  71.2833   C85        C   Mrs  \n",
       "2      0  STON/O2. 3101282   7.9250   NaN        S  Miss  \n",
       "3      0            113803  53.1000  C123        S   Mrs  \n",
       "4      0            373450   8.0500   NaN        S    Mr  "
      ]
     },
     "execution_count": 3,
     "metadata": {},
     "output_type": "execute_result"
    }
   ],
   "source": [
    "\"\"\" Leed el fichero con pandas y almacenarlo en una variable llamada data \"\"\"\n",
    "\n",
    "data = pd.read_csv('./data/titanic-2.csv')\n",
    "\n",
    "data.head()"
   ]
  },
  {
   "cell_type": "code",
   "execution_count": 4,
   "metadata": {},
   "outputs": [],
   "source": [
    "\"\"\" Cread una variable adicional, llamada hasCabin, \n",
    "    que tome valor 0 si la columna Cabin es nula, y 1 si no lo es \"\"\"\n",
    "\n",
    "# Transforma los nan en 0\n",
    "data['Cabin'] = data.Cabin.fillna(0)\n",
    "\n",
    "data['hasCabin'] = data.Cabin.apply(lambda x: 0 if x == 0 else 1)\n",
    "\n",
    "# data.hasCabin.head()"
   ]
  },
  {
   "cell_type": "code",
   "execution_count": 5,
   "metadata": {},
   "outputs": [],
   "source": [
    "\"\"\"Eliminad las columnas PassengerId, Cabin, Ticket y Name de data (comando drop) \"\"\"\n",
    "\n",
    "data = data.drop(['PassengerId', 'Cabin', 'Ticket', 'Name'], axis = 1) # codigo-alumno\n",
    "\n"
   ]
  },
  {
   "cell_type": "code",
   "execution_count": 6,
   "metadata": {},
   "outputs": [],
   "source": [
    "\"\"\" Modificad las variables Title, Parch y SibSp, donde Title tome los valores Mr, Mrs, Miss y Otros. \n",
    "    Y Parch y SibSp toman los valores 0, 1 o 2 (donde 2 incluye 2 o más) \"\"\"\n",
    "\n",
    "data['SibSp'] = data.SibSp.apply(lambda x: 2 if x >= 2 else x) # codigo-alumno\n",
    "data['Parch'] = data.Parch.apply(lambda x: 2 if x >= 2 else x) # codigo-alumno\n",
    "data['Title'] = data.Title.apply(lambda x: x if x in ['Mr', 'Mrs', 'Miss'] else 'Otros') # codigo-alumno"
   ]
  },
  {
   "cell_type": "code",
   "execution_count": 7,
   "metadata": {},
   "outputs": [
    {
     "name": "stdout",
     "output_type": "stream",
     "text": [
      "(891, 10)\n",
      "(889, 10)\n"
     ]
    }
   ],
   "source": [
    "\"\"\" Eliminad los dos registros cuyo valor Embarked es nulo \n",
    "    (se recomienda comprobar que se hayan eliminado correctamente) \"\"\"\n",
    "\n",
    "\n",
    "# codigo-alumno\n",
    "print(data.shape)\n",
    "data = data[~(data.Embarked.isnull())]\n",
    "\n",
    "data.isnull().sum()\n",
    "print(data.shape)\n"
   ]
  },
  {
   "cell_type": "code",
   "execution_count": 8,
   "metadata": {},
   "outputs": [
    {
     "data": {
      "text/plain": [
       "Parch\n",
       "0        676\n",
       "1        118\n",
       "2         95\n",
       "dtype: int64"
      ]
     },
     "execution_count": 8,
     "metadata": {},
     "output_type": "execute_result"
    }
   ],
   "source": [
    "# Comprobaciones Ivonne\n",
    "data.head(100)\n",
    "data.value_counts(['Parch'])\n",
    "# data[['SibSp', 'Parch', 'Title']].apply(pd.Series.value_counts)\n"
   ]
  },
  {
   "cell_type": "code",
   "execution_count": 9,
   "metadata": {},
   "outputs": [
    {
     "name": "stdout",
     "output_type": "stream",
     "text": [
      "102\n",
      "0\n"
     ]
    }
   ],
   "source": [
    "\"\"\" Eliminad registros duplicados en caso de que los haya \"\"\"\n",
    "# codigo-alumno\n",
    "\n",
    "print(data.duplicated().sum())\n",
    "data = data.drop_duplicates()\n",
    "print(data.duplicated().sum())\n"
   ]
  },
  {
   "cell_type": "markdown",
   "metadata": {},
   "source": [
    "### Feature engineering"
   ]
  },
  {
   "cell_type": "code",
   "execution_count": 10,
   "metadata": {},
   "outputs": [
    {
     "data": {
      "text/plain": [
       "array([[ 3. , 22. ,  1. , ...,  0. ,  1. ,  0. ],\n",
       "       [ 1. , 38. ,  1. , ...,  0. ,  0. ,  1. ],\n",
       "       [ 3. , 26. ,  0. , ...,  1. ,  0. ,  0. ],\n",
       "       ...,\n",
       "       [ 3. , 26.8,  1. , ...,  1. ,  0. ,  0. ],\n",
       "       [ 1. , 26. ,  0. , ...,  0. ,  1. ,  0. ],\n",
       "       [ 3. , 32. ,  0. , ...,  0. ,  1. ,  0. ]])"
      ]
     },
     "execution_count": 10,
     "metadata": {},
     "output_type": "execute_result"
    }
   ],
   "source": [
    "\"\"\"\n",
    "Realizar un ColumnTransformer que lleve:\n",
    "- Un KNN Imputer para 'Pclass', 'Age', 'SibSp', 'Parch', 'Fare'\n",
    "- Un PowerTransformer yeo-johnson para 'Fare'\n",
    "- Un OneHotEncoder para las variables 'Sex', 'Parch', 'Embarked' y 'Title'\n",
    "\"\"\"\n",
    "\n",
    "col_transformer = ColumnTransformer([ # codigo-alumno\n",
    "    ('imputer', KNNImputer(n_neighbors=5),['Pclass', 'Age', 'SibSp', 'Parch', 'Fare']),\n",
    "    ('yeo-johnson', PowerTransformer(), ['Fare']),\n",
    "    ('encoder1', OneHotEncoder(drop='if_binary'), ['Sex']),\n",
    "    ('encoder2', OneHotEncoder(categories = [['0','1','2']], handle_unknown='ignore'), ['Parch']),\n",
    "    ('encoder3', OneHotEncoder(drop='first'), ['Embarked']),\n",
    "    ('encoder4', OneHotEncoder(categories= [['Miss', 'Mr', 'Mrs']], handle_unknown='ignore'), ['Title']),\n",
    "   \n",
    "])\n",
    "\n",
    "\n",
    "ctransformed = col_transformer.fit_transform(data)\n",
    "ctransformed\n"
   ]
  },
  {
   "cell_type": "markdown",
   "metadata": {},
   "source": [
    "### Model Selection"
   ]
  },
  {
   "cell_type": "code",
   "execution_count": 11,
   "metadata": {},
   "outputs": [
    {
     "data": {
      "text/plain": [
       "[('LR', LogisticRegression(random_state=76)),\n",
       " ('LDA', LinearDiscriminantAnalysis()),\n",
       " ('KNN', KNeighborsClassifier()),\n",
       " ('DTC', DecisionTreeClassifier(random_state=76)),\n",
       " ('NB', GaussianNB()),\n",
       " ('RFC', RandomForestClassifier(random_state=76)),\n",
       " ('SVM', SVC())]"
      ]
     },
     "execution_count": 11,
     "metadata": {},
     "output_type": "execute_result"
    }
   ],
   "source": [
    "\"\"\" Realizaremos un análisis de los siguientes modelos con las siguentes features \"\"\"\n",
    "\n",
    "models = []\n",
    "models.append(('LR', LogisticRegression(random_state=seed)))\n",
    "models.append(('LDA', LinearDiscriminantAnalysis()))\n",
    "models.append(('KNN', KNeighborsClassifier()))\n",
    "models.append(('DTC', DecisionTreeClassifier(random_state=seed)))\n",
    "models.append(('NB', GaussianNB()))\n",
    "models.append(('RFC', RandomForestClassifier(random_state=seed)))\n",
    "models.append(('SVM', SVC()))\n",
    "\n",
    "X = data[['Pclass', 'Sex', 'Age', 'SibSp', 'Parch', 'Fare', 'Embarked', 'Title', 'hasCabin']]\n",
    "y = data['Survived']\n",
    "\n",
    "models"
   ]
  },
  {
   "cell_type": "code",
   "execution_count": 12,
   "metadata": {},
   "outputs": [],
   "source": [
    "\"\"\" Para plotear los resultados utilizaremos la siguiente función \"\"\"\n",
    "\n",
    "def boxplots_algorithms(results, names):\n",
    "    \n",
    "    plt.figure(figsize=(8,8))\n",
    "    plt.boxplot(results)\n",
    "    plt.xticks(range(1,len(names)+1), names)\n",
    "    plt.show()"
   ]
  },
  {
   "cell_type": "code",
   "execution_count": 13,
   "metadata": {},
   "outputs": [
    {
     "name": "stdout",
     "output_type": "stream",
     "text": [
      "LR: 0.789094 (0.020454)\n",
      "LDA: 0.790377 (0.025336)\n",
      "KNN: 0.762334 (0.024716)\n",
      "DTC: 0.736839 (0.044815)\n",
      "NB: 0.756118 (0.040520)\n",
      "RFC: 0.767397 (0.023520)\n",
      "SVM: 0.796673 (0.014226)\n"
     ]
    },
    {
     "data": {
      "image/png": "[encoded data removed]",
      "text/plain": [
       "<Figure size 800x800 with 1 Axes>"
      ]
     },
     "metadata": {},
     "output_type": "display_data"
    }
   ],
   "source": [
    "\"\"\" Realizad un bucle que calcule, para cada modelo,\n",
    "    - Un pipeline que realice:\n",
    "        1. El ColumnTransformer diseñado anteriormente\n",
    "        2. Un RobustScaler a continuación y, finalmente, \n",
    "        3. Evalue cada modelo \n",
    "    - Una validación cruzada:\n",
    "        1. Tipo KFolds, con 10 splits \n",
    "        2. Aleatorio con semilla y,\n",
    "        3. scoring='accuracy'\n",
    "     Usaremos la función boxplots_algorithms para plotear los resultados \"\"\"\n",
    "\n",
    "results = []\n",
    "names = []\n",
    "\n",
    "for name, model in models:\n",
    "    \n",
    "    scaler = RobustScaler()# codigo-alumno\n",
    "    # El orden importa aaaaa\n",
    "    pipeline = make_pipeline(col_transformer, scaler, model) # codigo-alumno\n",
    "    \n",
    "    cv_technique = KFold(n_splits=10, shuffle= True, random_state=seed)# codigo-alumno\n",
    "    cv_results = cross_val_score(pipeline, X, y, cv = cv_technique, scoring='accuracy')# codigo-alumno\n",
    "    \n",
    "    msg = \"%s: %f (%f)\" % (name, cv_results.mean(), cv_results.std())\n",
    "    print(msg)\n",
    "    \n",
    "    results.append(cv_results)\n",
    "    names.append(name)\n",
    "    \n",
    "boxplots_algorithms(results, names)"
   ]
  },
  {
   "cell_type": "code",
   "execution_count": 14,
   "metadata": {},
   "outputs": [
    {
     "name": "stdout",
     "output_type": "stream",
     "text": [
      "LR: 0.787796 (0.033777)\n",
      "LDA: 0.792843 (0.043557)\n",
      "KNN: 0.777653 (0.022643)\n",
      "DTC: 0.721698 (0.036898)\n",
      "NB: 0.757173 (0.041177)\n",
      "RFC: 0.766147 (0.054114)\n",
      "SVM: 0.799172 (0.041281)\n"
     ]
    },
    {
     "data": {
      "image/png": "[encoded data removed]",
      "text/plain": [
       "<Figure size 800x800 with 1 Axes>"
      ]
     },
     "metadata": {},
     "output_type": "display_data"
    }
   ],
   "source": [
    "\"\"\" Realizad el mismo estudio de selección de variables, pero con StratifiedKFolds \"\"\"\n",
    "\n",
    "results = []\n",
    "names = []\n",
    "\n",
    "for name, model in models:\n",
    "    \n",
    "    scaler = RobustScaler() # codigo-alumno\n",
    "    pipeline = make_pipeline(col_transformer, scaler, model) # codigo-alumno\n",
    "    \n",
    "    cv_technique = StratifiedKFold(n_splits=10, random_state=seed, shuffle=True) # codigo-alumno\n",
    "    cv_results = cross_val_score(pipeline, X, y, cv = cv_technique, scoring='accuracy' )# codigo-alumno\n",
    "    \n",
    "    msg = \"%s: %f (%f)\" % (name, cv_results.mean(), cv_results.std())\n",
    "    print(msg)\n",
    "    \n",
    "    results.append(cv_results)\n",
    "    names.append(name)\n",
    "    \n",
    "boxplots_algorithms(results, names)"
   ]
  },
  {
   "cell_type": "markdown",
   "metadata": {},
   "source": [
    "### Model Tuning"
   ]
  },
  {
   "cell_type": "code",
   "execution_count": 15,
   "metadata": {},
   "outputs": [
    {
     "name": "stdout",
     "output_type": "stream",
     "text": [
      "0.8131288542680947\n",
      "Pipeline(steps=[('transformacion_columna',\n",
      "                 ColumnTransformer(transformers=[('imputer', KNNImputer(),\n",
      "                                                  ['Pclass', 'Age', 'SibSp',\n",
      "                                                   'Parch', 'Fare']),\n",
      "                                                 ('yeo-johnson',\n",
      "                                                  PowerTransformer(),\n",
      "                                                  ['Fare']),\n",
      "                                                 ('encoder1',\n",
      "                                                  OneHotEncoder(drop='if_binary'),\n",
      "                                                  ['Sex']),\n",
      "                                                 ('encoder2',\n",
      "                                                  OneHotEncoder(categories=[['0',\n",
      "                                                                             '1',\n",
      "                                                                             '2']],\n",
      "                                                                handle_unknown='ignore'),\n",
      "                                                  ['Parch']),\n",
      "                                                 ('encoder3',\n",
      "                                                  OneHotEncoder(drop='first'),\n",
      "                                                  ['Embarked']),\n",
      "                                                 ('encoder4',\n",
      "                                                  OneHotEncoder(categories=[['Miss',\n",
      "                                                                             'Mr',\n",
      "                                                                             'Mrs']],\n",
      "                                                                handle_unknown='ignore'),\n",
      "                                                  ['Title'])])),\n",
      "                ('robust_scaler', RobustScaler()),\n",
      "                ('model',\n",
      "                 RandomForestClassifier(max_depth=8, n_estimators=20))])\n"
     ]
    }
   ],
   "source": [
    "\"\"\" Realizad un Tuneado del RandomForestClassifier para estimar cuál es la mejor configuración paramétrica\n",
    "    Y comprobarlo con GridSearchCV \"\"\"\n",
    "\n",
    "param_grid = { \n",
    "    'model__n_estimators': [10, 20],\n",
    "    'model__max_features': ['auto','sqrt', 'log2'],\n",
    "    'model__max_depth' : [4,5,6,7,8],\n",
    "    'model__criterion' :['gini', 'entropy']\n",
    "}\n",
    "model = RandomForestClassifier()    # codigo-alumno\n",
    "\n",
    "pipeline = Pipeline([('transformacion_columna', col_transformer), \n",
    "                     ('robust_scaler', scaler), \n",
    "                     ('model', model)])\n",
    "\n",
    "pipeline.get_params().keys()\n",
    "\n",
    "cv_technique = StratifiedKFold(n_splits=10, shuffle=True, random_state=seed)\n",
    "grid_model = GridSearchCV(estimator = pipeline, param_grid=param_grid, cv = cv_technique)# codigo-alumno\n",
    "grid_model.fit(X, y)\n",
    "\n",
    "print(grid_model.best_score_)\n",
    "print(grid_model.best_estimator_)"
   ]
  },
  {
   "cell_type": "code",
   "execution_count": null,
   "metadata": {},
   "outputs": [],
   "source": []
  }
 ],
 "metadata": {
  "kernelspec": {
   "display_name": "Python 3 (ipykernel)",
   "language": "python",
   "name": "python3"
  },
  "language_info": {
   "codemirror_mode": {
    "name": "ipython",
    "version": 3
   },
   "file_extension": ".py",
   "mimetype": "text/x-python",
   "name": "python",
   "nbconvert_exporter": "python",
   "pygments_lexer": "ipython3",
   "version": "3.8.9"
  }
 },
 "nbformat": 4,
 "nbformat_minor": 2
}
